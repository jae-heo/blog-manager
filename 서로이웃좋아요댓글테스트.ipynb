{
 "cells": [
  {
   "cell_type": "code",
   "execution_count": 9,
   "id": "6dc0037c-5873-4814-8b19-3cba0f3c6094",
   "metadata": {
    "ExecuteTime": {
     "end_time": "2024-01-31T15:01:30.763364300Z",
     "start_time": "2024-01-31T15:01:30.743148Z"
    }
   },
   "outputs": [],
   "source": [
    "import logging\n",
    "from urllib.parse import urlparse, parse_qs\n",
    "from selenium import webdriver\n",
    "from selenium.webdriver.common.alert import Alert\n",
    "from logic import *\n",
    "from selenium.webdriver.support import expected_conditions as EC\n",
    "from selenium.webdriver.support.ui import WebDriverWait\n",
    "from selenium.common import NoSuchElementException\n",
    "from selenium.webdriver import Keys\n",
    "from selenium.webdriver.common.by import By\n",
    "from selenium.webdriver.common.action_chains import ActionChains"
   ]
  },
  {
   "cell_type": "code",
   "execution_count": 62,
   "id": "11ff9f4e-0edd-4ca8-a537-c2846510a37d",
   "metadata": {
    "ExecuteTime": {
     "end_time": "2024-01-31T15:55:12.062799700Z",
     "start_time": "2024-01-31T15:55:02.419562300Z"
    }
   },
   "outputs": [],
   "source": [
    "generated_title = \"안녕하세요\"\n",
    "driver = webdriver.Chrome()\n",
    "\n",
    "get_page(driver, NAVER_LOGIN_URL)\n",
    "\n",
    "id_text_field = driver.find_element(By.CSS_SELECTOR, '#id')\n",
    "key_in(id_text_field, DEV_ID)\n",
    "\n",
    "pw_text_field = driver.find_element(By.CSS_SELECTOR, '#pw')\n",
    "key_in(pw_text_field, DEV_PW)\n",
    "\n",
    "login_button = driver.find_element(By.XPATH, '//*[@id=\"log.login\"]')\n",
    "click(login_button)"
   ]
  },
  {
   "cell_type": "code",
   "execution_count": 63,
   "id": "89ba5123-2f2e-4a23-a712-a5d807cd7ea3",
   "metadata": {
    "ExecuteTime": {
     "end_time": "2024-01-31T15:57:23.283129900Z",
     "start_time": "2024-01-31T15:55:23.216571400Z"
    }
   },
   "outputs": [
    {
     "name": "stdout",
     "output_type": "stream",
     "text": [
      "BlogPostTable이 비었습니다.\n",
      "230tofhdnsehwjs422\n",
      "https://m.blog.naver.com/230tofhdnsehwjs422/223339750292?referrerCode=1\n",
      "223339750292\n",
      "ssangyong62\n",
      "https://m.blog.naver.com/ssangyong62/223322757137?referrerCode=1\n",
      "223322757137\n",
      "joosooao\n",
      "https://m.blog.naver.com/joosooao/223338836500?referrerCode=1\n",
      "223338836500\n",
      "seree1106\n",
      "https://m.blog.naver.com/seree1106/223339929870?referrerCode=1\n",
      "223339929870\n",
      "capslave\n",
      "https://m.blog.naver.com/capslave/223329932997?referrerCode=1\n",
      "223329932997\n",
      "jia315k\n",
      "글 없음\n",
      "kimhunso7203\n",
      "글 없음\n",
      "specialkey01\n",
      "https://m.blog.naver.com/specialkey01/223339333718?referrerCode=1\n",
      "223339333718\n",
      "khplaza\n",
      "https://m.blog.naver.com/khplaza/223338823240?referrerCode=1\n",
      "223338823240\n",
      "saturnh31\n",
      "https://m.blog.naver.com/saturnh31/223325550632?referrerCode=1\n",
      "223325550632\n",
      "jily7911\n",
      "https://m.blog.naver.com/jily7911/223339962446?referrerCode=1\n",
      "223339962446\n",
      "bbongguhouse\n",
      "https://m.blog.naver.com/bbongguhouse/223333875209?referrerCode=1\n",
      "223333875209\n",
      "anaden_gimhae\n",
      "https://m.blog.naver.com/anaden_gimhae/223323194970?referrerCode=1\n",
      "223323194970\n",
      "syp952005\n",
      "https://m.blog.naver.com/syp952005/223339561668?referrerCode=1\n",
      "223339561668\n",
      "powernani1\n",
      "https://m.blog.naver.com/powernani1/223324686229?referrerCode=1\n",
      "223324686229\n",
      "seulbikku_\n",
      "https://m.blog.naver.com/seulbikku_/223339673118?referrerCode=1\n",
      "223339673118\n",
      "jesuron\n"
     ]
    },
    {
     "ename": "KeyboardInterrupt",
     "evalue": "",
     "output_type": "error",
     "traceback": [
      "\u001B[1;31m---------------------------------------------------------------------------\u001B[0m",
      "\u001B[1;31mKeyboardInterrupt\u001B[0m                         Traceback (most recent call last)",
      "Cell \u001B[1;32mIn[63], line 9\u001B[0m\n\u001B[0;32m      7\u001B[0m \u001B[38;5;28mprint\u001B[39m(blog[\u001B[38;5;124m'\u001B[39m\u001B[38;5;124mblog_id\u001B[39m\u001B[38;5;124m'\u001B[39m])\n\u001B[0;32m      8\u001B[0m url \u001B[38;5;241m=\u001B[39m \u001B[38;5;124mf\u001B[39m\u001B[38;5;124m\"\u001B[39m\u001B[38;5;124mhttps://m.blog.naver.com/\u001B[39m\u001B[38;5;132;01m{\u001B[39;00mblog[\u001B[38;5;124m'\u001B[39m\u001B[38;5;124mblog_id\u001B[39m\u001B[38;5;124m'\u001B[39m]\u001B[38;5;132;01m}\u001B[39;00m\u001B[38;5;124m\"\u001B[39m\n\u001B[1;32m----> 9\u001B[0m \u001B[43mget_page\u001B[49m\u001B[43m(\u001B[49m\u001B[43mdriver\u001B[49m\u001B[43m,\u001B[49m\u001B[43m \u001B[49m\u001B[43murl\u001B[49m\u001B[43m)\u001B[49m\n\u001B[0;32m     10\u001B[0m time\u001B[38;5;241m.\u001B[39msleep(\u001B[38;5;241m2\u001B[39m)\n\u001B[0;32m     12\u001B[0m \u001B[38;5;28;01mtry\u001B[39;00m:\n",
      "File \u001B[1;32m~\\PycharmProjects\\blog-manager\\custom_func.py:38\u001B[0m, in \u001B[0;36mget_page\u001B[1;34m(driver, url)\u001B[0m\n\u001B[0;32m     36\u001B[0m \u001B[38;5;28;01mdef\u001B[39;00m \u001B[38;5;21mget_page\u001B[39m(driver, url):\n\u001B[0;32m     37\u001B[0m     driver\u001B[38;5;241m.\u001B[39mget(url)\n\u001B[1;32m---> 38\u001B[0m     \u001B[43mrand_sleep\u001B[49m\u001B[43m(\u001B[49m\u001B[43m)\u001B[49m\n",
      "File \u001B[1;32m~\\PycharmProjects\\blog-manager\\custom_func.py:15\u001B[0m, in \u001B[0;36mrand_sleep\u001B[1;34m(min, max)\u001B[0m\n\u001B[0;32m     14\u001B[0m \u001B[38;5;28;01mdef\u001B[39;00m \u001B[38;5;21mrand_sleep\u001B[39m(\u001B[38;5;28mmin\u001B[39m \u001B[38;5;241m=\u001B[39m \u001B[38;5;241m1300\u001B[39m, \u001B[38;5;28mmax\u001B[39m \u001B[38;5;241m=\u001B[39m \u001B[38;5;241m2000\u001B[39m):\n\u001B[1;32m---> 15\u001B[0m     \u001B[43mQTest\u001B[49m\u001B[38;5;241;43m.\u001B[39;49m\u001B[43mqWait\u001B[49m\u001B[43m(\u001B[49m\u001B[43mrandom\u001B[49m\u001B[38;5;241;43m.\u001B[39;49m\u001B[43mrandint\u001B[49m\u001B[43m(\u001B[49m\u001B[38;5;241;43m1300\u001B[39;49m\u001B[43m,\u001B[49m\u001B[43m \u001B[49m\u001B[38;5;241;43m2000\u001B[39;49m\u001B[43m)\u001B[49m\u001B[43m)\u001B[49m\n",
      "\u001B[1;31mKeyboardInterrupt\u001B[0m: "
     ]
    }
   ],
   "source": [
    "db_manager = DbManager(\"pgw031203\")\n",
    "\n",
    "all_blogs = db_manager.get_all_blogs()\n",
    "all_posts = db_manager.get_all_blog_posts()\n",
    "\n",
    "for blog in all_blogs:\n",
    "    \n",
    "    filtered_posts = [\n",
    "        post for post in all_posts\n",
    "        if post.get(\"blog_post_id\") == blog\n",
    "    ]\n",
    "    \n",
    "    time.sleep(1)\n",
    "    print(blog['blog_id'])\n",
    "    url = f\"https://m.blog.naver.com/{blog['blog_id']}\"\n",
    "    get_page(driver, url)\n",
    "    time.sleep(2)\n",
    "    \n",
    "    try:\n",
    "        button = driver.find_element(By.XPATH, '//*[@id=\"contentslist_block\"]/div[1]/div/div/button[2]')\n",
    "        click(button)\n",
    "        time.sleep(1)\n",
    "        xpath = f'//*[@id=\"contentslist_block\"]/div[2]/div/div[2]/ul/li[1]'\n",
    "        \n",
    "        latest_post = driver.find_element(By.XPATH, xpath)\n",
    "        \n",
    "        # Extract the URL of the latest post\n",
    "        latest_post_url = latest_post.find_element(By.TAG_NAME, \"a\").get_attribute(\"href\")\n",
    "        print(latest_post_url)\n",
    "        \n",
    "        # Find the last occurrence of '/'\n",
    "        last_slash_index = latest_post_url.rfind('/')\n",
    "        \n",
    "        # Find the index of '?' after the last '/'\n",
    "        question_mark_index = latest_post_url.find('?', last_slash_index)\n",
    "        \n",
    "        if last_slash_index != -1 and question_mark_index != -1:\n",
    "            extracted_part = latest_post_url[last_slash_index + 1:question_mark_index]\n",
    "            print(extracted_part)\n",
    "            db_manager.insert_blog_post(blog['blog_id'], extracted_part, )\n",
    "                \n",
    "        else:\n",
    "            print(\"Pattern not found.\")\n",
    "    except:\n",
    "        print('글 없음')\n",
    "        continue"
   ]
  },
  {
   "cell_type": "code",
   "execution_count": 61,
   "id": "31ceec46-d11d-4dbd-9303-bba085117834",
   "metadata": {
    "ExecuteTime": {
     "end_time": "2024-01-31T15:54:45.783834800Z",
     "start_time": "2024-01-31T15:54:45.758826500Z"
    }
   },
   "outputs": [
    {
     "name": "stdout",
     "output_type": "stream",
     "text": [
      "230tofhdnsehwjs422\n",
      "ssangyong62\n",
      "joosooao\n",
      "seree1106\n",
      "capslave\n",
      "jia315k\n",
      "kimhunso7203\n",
      "specialkey01\n",
      "khplaza\n",
      "saturnh31\n",
      "jily7911\n",
      "bbongguhouse\n",
      "anaden_gimhae\n",
      "syp952005\n",
      "powernani1\n",
      "seulbikku_\n",
      "jesuron\n",
      "soso_1222\n",
      "khi5859\n",
      "yeolin365\n",
      "tlalsdbxhd\n",
      "sixray\n",
      "cheongsohaja\n",
      "sayne-\n",
      "pikapikajun23\n",
      "tax95tax\n",
      "aozha4385\n",
      "junzero0412\n",
      "10002x3\n",
      "yuio5264\n",
      "daese91\n",
      "nagom21\n",
      "joeunbrush_\n",
      "soundzero-owa\n",
      "usawinebank\n",
      "index0101n\n",
      "woonkimm\n",
      "homebman\n",
      "nfgs\n",
      "mha0715\n",
      "hero9603\n",
      "geniemom61\n",
      "jaejunroh30193\n",
      "powerball66\n",
      "daystar95\n",
      "best_top3\n",
      "uines_pilates\n",
      "goyoume45\n",
      "xogml4763\n",
      "sonyjj1974\n",
      "282pdjh\n",
      "silancing\n",
      "choijaehee26\n",
      "tori_gwang\n",
      "sinki0718\n",
      "fromminy\n",
      "chaeumoffice\n",
      "mp3tttt\n",
      "hyeseo1023\n",
      "2sido\n",
      "glory2425\n",
      "bersco\n",
      "realityisreal\n",
      "bjcho2741\n",
      "winnerjump_rope\n",
      "neulstar\n",
      "abcdekim_\n",
      "seang81\n",
      "wd940226\n",
      "happy_0228_\n",
      "kwj2488\n",
      "kbn7590\n",
      "kmbb0310\n",
      "tndus0579\n",
      "mathclass1\n",
      "jounghanwoo\n",
      "yanleijs\n",
      "masirang12\n",
      "nansge\n",
      "vordooo\n",
      "niurgul_\n",
      "wealthm\n",
      "gefdedd\n",
      "miragekiss\n",
      "ryussu79\n",
      "dbflgusdl\n",
      "dobaegong\n",
      "mnbv7736\n",
      "sumaone\n",
      "hongsky3033\n",
      "labonkorea\n",
      "siwon1209\n"
     ]
    }
   ],
   "source": [
    "db_manager = DbManager(\"pgw031203\")\n",
    "all_blogs = db_manager.get_all_blogs()\n",
    "for blog in all_blogs:\n",
    "    print(blog[\"blog_id\"])"
   ]
  },
  {
   "cell_type": "code",
   "execution_count": 22,
   "id": "8f7d7e69-d4fe-47ef-8af9-e61119665905",
   "metadata": {
    "ExecuteTime": {
     "end_time": "2024-01-31T15:08:16.312754200Z",
     "start_time": "2024-01-31T15:08:16.251753Z"
    }
   },
   "outputs": [
    {
     "ename": "NoSuchElementException",
     "evalue": "Message: no such element: Unable to locate element: {\"method\":\"xpath\",\"selector\":\"/html/body/div[1]/div/div[3]/div/div/div[1]/div/div[1]/div[2]/section/article/div[2]/div/div\"}\n  (Session info: chrome=120.0.6099.227); For documentation on this error, please visit: https://www.selenium.dev/documentation/webdriver/troubleshooting/errors#no-such-element-exception\nStacktrace:\n\tGetHandleVerifier [0x00007FF676D92142+3514994]\n\t(No symbol) [0x00007FF6769B0CE2]\n\t(No symbol) [0x00007FF6768576AA]\n\t(No symbol) [0x00007FF6768A1860]\n\t(No symbol) [0x00007FF6768A197C]\n\t(No symbol) [0x00007FF6768E4EE7]\n\t(No symbol) [0x00007FF6768C602F]\n\t(No symbol) [0x00007FF6768E28F6]\n\t(No symbol) [0x00007FF6768C5D93]\n\t(No symbol) [0x00007FF676894BDC]\n\t(No symbol) [0x00007FF676895C64]\n\tGetHandleVerifier [0x00007FF676DBE16B+3695259]\n\tGetHandleVerifier [0x00007FF676E16737+4057191]\n\tGetHandleVerifier [0x00007FF676E0E4E3+4023827]\n\tGetHandleVerifier [0x00007FF676AE04F9+689705]\n\t(No symbol) [0x00007FF6769BC048]\n\t(No symbol) [0x00007FF6769B8044]\n\t(No symbol) [0x00007FF6769B81C9]\n\t(No symbol) [0x00007FF6769A88C4]\n\tBaseThreadInitThunk [0x00007FFD6E9B7604+20]\n\tRtlUserThreadStart [0x00007FFD6FF226A1+33]\n",
     "output_type": "error",
     "traceback": [
      "\u001B[1;31m---------------------------------------------------------------------------\u001B[0m",
      "\u001B[1;31mNoSuchElementException\u001B[0m                    Traceback (most recent call last)",
      "Cell \u001B[1;32mIn[22], line 8\u001B[0m\n\u001B[0;32m      4\u001B[0m third_subtitle \u001B[38;5;241m=\u001B[39m \u001B[38;5;124m\"\u001B[39m\u001B[38;5;124m저는 세번째 본문입니다.\u001B[39m\u001B[38;5;124m\"\u001B[39m\n\u001B[0;32m      7\u001B[0m main_xpath \u001B[38;5;241m=\u001B[39m \u001B[38;5;124m'\u001B[39m\u001B[38;5;124m/html/body/div[1]/div/div[3]/div/div/div[1]/div/div[1]/div[2]/section/article/div[2]/div/div\u001B[39m\u001B[38;5;124m'\u001B[39m\n\u001B[1;32m----> 8\u001B[0m \u001B[43mdriver\u001B[49m\u001B[38;5;241;43m.\u001B[39;49m\u001B[43mfind_element\u001B[49m\u001B[43m(\u001B[49m\u001B[38;5;124;43m'\u001B[39;49m\u001B[38;5;124;43mxpath\u001B[39;49m\u001B[38;5;124;43m'\u001B[39;49m\u001B[43m,\u001B[49m\u001B[43mmain_xpath\u001B[49m\u001B[43m)\u001B[49m\u001B[38;5;241m.\u001B[39mclick()\n\u001B[0;32m      9\u001B[0m time\u001B[38;5;241m.\u001B[39msleep(\u001B[38;5;241m2\u001B[39m)\n\u001B[0;32m     10\u001B[0m ActionChains(driver)\u001B[38;5;241m.\u001B[39msend_keys(introduction)\u001B[38;5;241m.\u001B[39mperform()\n",
      "File \u001B[1;32m~\\PycharmProjects\\blog-manager\\venv\\lib\\site-packages\\selenium\\webdriver\\remote\\webdriver.py:742\u001B[0m, in \u001B[0;36mWebDriver.find_element\u001B[1;34m(self, by, value)\u001B[0m\n\u001B[0;32m    739\u001B[0m     by \u001B[38;5;241m=\u001B[39m By\u001B[38;5;241m.\u001B[39mCSS_SELECTOR\n\u001B[0;32m    740\u001B[0m     value \u001B[38;5;241m=\u001B[39m \u001B[38;5;124mf\u001B[39m\u001B[38;5;124m'\u001B[39m\u001B[38;5;124m[name=\u001B[39m\u001B[38;5;124m\"\u001B[39m\u001B[38;5;132;01m{\u001B[39;00mvalue\u001B[38;5;132;01m}\u001B[39;00m\u001B[38;5;124m\"\u001B[39m\u001B[38;5;124m]\u001B[39m\u001B[38;5;124m'\u001B[39m\n\u001B[1;32m--> 742\u001B[0m \u001B[38;5;28;01mreturn\u001B[39;00m \u001B[38;5;28;43mself\u001B[39;49m\u001B[38;5;241;43m.\u001B[39;49m\u001B[43mexecute\u001B[49m\u001B[43m(\u001B[49m\u001B[43mCommand\u001B[49m\u001B[38;5;241;43m.\u001B[39;49m\u001B[43mFIND_ELEMENT\u001B[49m\u001B[43m,\u001B[49m\u001B[43m \u001B[49m\u001B[43m{\u001B[49m\u001B[38;5;124;43m\"\u001B[39;49m\u001B[38;5;124;43musing\u001B[39;49m\u001B[38;5;124;43m\"\u001B[39;49m\u001B[43m:\u001B[49m\u001B[43m \u001B[49m\u001B[43mby\u001B[49m\u001B[43m,\u001B[49m\u001B[43m \u001B[49m\u001B[38;5;124;43m\"\u001B[39;49m\u001B[38;5;124;43mvalue\u001B[39;49m\u001B[38;5;124;43m\"\u001B[39;49m\u001B[43m:\u001B[49m\u001B[43m \u001B[49m\u001B[43mvalue\u001B[49m\u001B[43m}\u001B[49m\u001B[43m)\u001B[49m[\u001B[38;5;124m\"\u001B[39m\u001B[38;5;124mvalue\u001B[39m\u001B[38;5;124m\"\u001B[39m]\n",
      "File \u001B[1;32m~\\PycharmProjects\\blog-manager\\venv\\lib\\site-packages\\selenium\\webdriver\\remote\\webdriver.py:348\u001B[0m, in \u001B[0;36mWebDriver.execute\u001B[1;34m(self, driver_command, params)\u001B[0m\n\u001B[0;32m    346\u001B[0m response \u001B[38;5;241m=\u001B[39m \u001B[38;5;28mself\u001B[39m\u001B[38;5;241m.\u001B[39mcommand_executor\u001B[38;5;241m.\u001B[39mexecute(driver_command, params)\n\u001B[0;32m    347\u001B[0m \u001B[38;5;28;01mif\u001B[39;00m response:\n\u001B[1;32m--> 348\u001B[0m     \u001B[38;5;28;43mself\u001B[39;49m\u001B[38;5;241;43m.\u001B[39;49m\u001B[43merror_handler\u001B[49m\u001B[38;5;241;43m.\u001B[39;49m\u001B[43mcheck_response\u001B[49m\u001B[43m(\u001B[49m\u001B[43mresponse\u001B[49m\u001B[43m)\u001B[49m\n\u001B[0;32m    349\u001B[0m     response[\u001B[38;5;124m\"\u001B[39m\u001B[38;5;124mvalue\u001B[39m\u001B[38;5;124m\"\u001B[39m] \u001B[38;5;241m=\u001B[39m \u001B[38;5;28mself\u001B[39m\u001B[38;5;241m.\u001B[39m_unwrap_value(response\u001B[38;5;241m.\u001B[39mget(\u001B[38;5;124m\"\u001B[39m\u001B[38;5;124mvalue\u001B[39m\u001B[38;5;124m\"\u001B[39m, \u001B[38;5;28;01mNone\u001B[39;00m))\n\u001B[0;32m    350\u001B[0m     \u001B[38;5;28;01mreturn\u001B[39;00m response\n",
      "File \u001B[1;32m~\\PycharmProjects\\blog-manager\\venv\\lib\\site-packages\\selenium\\webdriver\\remote\\errorhandler.py:229\u001B[0m, in \u001B[0;36mErrorHandler.check_response\u001B[1;34m(self, response)\u001B[0m\n\u001B[0;32m    227\u001B[0m         alert_text \u001B[38;5;241m=\u001B[39m value[\u001B[38;5;124m\"\u001B[39m\u001B[38;5;124malert\u001B[39m\u001B[38;5;124m\"\u001B[39m]\u001B[38;5;241m.\u001B[39mget(\u001B[38;5;124m\"\u001B[39m\u001B[38;5;124mtext\u001B[39m\u001B[38;5;124m\"\u001B[39m)\n\u001B[0;32m    228\u001B[0m     \u001B[38;5;28;01mraise\u001B[39;00m exception_class(message, screen, stacktrace, alert_text)  \u001B[38;5;66;03m# type: ignore[call-arg]  # mypy is not smart enough here\u001B[39;00m\n\u001B[1;32m--> 229\u001B[0m \u001B[38;5;28;01mraise\u001B[39;00m exception_class(message, screen, stacktrace)\n",
      "\u001B[1;31mNoSuchElementException\u001B[0m: Message: no such element: Unable to locate element: {\"method\":\"xpath\",\"selector\":\"/html/body/div[1]/div/div[3]/div/div/div[1]/div/div[1]/div[2]/section/article/div[2]/div/div\"}\n  (Session info: chrome=120.0.6099.227); For documentation on this error, please visit: https://www.selenium.dev/documentation/webdriver/troubleshooting/errors#no-such-element-exception\nStacktrace:\n\tGetHandleVerifier [0x00007FF676D92142+3514994]\n\t(No symbol) [0x00007FF6769B0CE2]\n\t(No symbol) [0x00007FF6768576AA]\n\t(No symbol) [0x00007FF6768A1860]\n\t(No symbol) [0x00007FF6768A197C]\n\t(No symbol) [0x00007FF6768E4EE7]\n\t(No symbol) [0x00007FF6768C602F]\n\t(No symbol) [0x00007FF6768E28F6]\n\t(No symbol) [0x00007FF6768C5D93]\n\t(No symbol) [0x00007FF676894BDC]\n\t(No symbol) [0x00007FF676895C64]\n\tGetHandleVerifier [0x00007FF676DBE16B+3695259]\n\tGetHandleVerifier [0x00007FF676E16737+4057191]\n\tGetHandleVerifier [0x00007FF676E0E4E3+4023827]\n\tGetHandleVerifier [0x00007FF676AE04F9+689705]\n\t(No symbol) [0x00007FF6769BC048]\n\t(No symbol) [0x00007FF6769B8044]\n\t(No symbol) [0x00007FF6769B81C9]\n\t(No symbol) [0x00007FF6769A88C4]\n\tBaseThreadInitThunk [0x00007FFD6E9B7604+20]\n\tRtlUserThreadStart [0x00007FFD6FF226A1+33]\n"
     ]
    }
   ],
   "source": [
    "introduction = \"안녕하세요\"\n",
    "first_subtitle = \"저는 첫번째 본문입니다.\"\n",
    "second_subtitle = \"저는 두번째 본문입니다.\"\n",
    "third_subtitle = \"저는 세번째 본문입니다.\"\n",
    "\n",
    "\n",
    "main_xpath = '/html/body/div[1]/div/div[3]/div/div/div[1]/div/div[1]/div[2]/section/article/div[2]/div/div'\n",
    "driver.find_element('xpath',main_xpath).click()\n",
    "time.sleep(2)\n",
    "ActionChains(driver).send_keys(introduction).perform()\n",
    "time.sleep(random.randint(2))\n",
    "ActionChains(driver).send_keys('\\n\\n\\n'+ first_subtitle).perform()\n",
    "time.sleep(random.randint(2))\n",
    "ActionChains(driver).send_keys('\\n\\n\\n'+ second_subtitle).perform()\n",
    "time.sleep(random.randint(2))\n",
    "ActionChains(driver).send_keys('\\n\\n\\n'+ third_subtitle).perform()\n",
    "time.sleep(random.randint(2))\n",
    "save_button = driver.find_element(By.XPATH, '//*[@id=\"root\"]/div/div[1]/div/div[2]/button[1]')\n",
    "click(save_button)"
   ]
  },
  {
   "cell_type": "code",
   "execution_count": null,
   "id": "d758060e-88eb-42e3-b05b-e414f55e40dd",
   "metadata": {},
   "outputs": [],
   "source": [
    "introduction = \"안녕하세요\"\n",
    "first_subtitle = \"저는 첫번째 본문입니다.\"\n",
    "second_subtitle = \"저는 두번째 본문입니다.\"\n",
    "third_subtitle = \"저는 세번째 본문입니다.\"\n",
    "\n",
    "\n",
    "main_xpath = '/html/body/div[1]/div/div[3]/div/div/div[1]/div/div[1]/div[2]/section/article/div[2]/div/div'\n",
    "driver.find_element('xpath',main_xpath).click()\n",
    "time.sleep(2)\n",
    "ActionChains(driver).send_keys(introduction).perform()\n",
    "time.sleep(random.randint(2))\n",
    "ActionChains(driver).send_keys('\\n\\n\\n'+ first_subtitle).perform()\n",
    "time.sleep(random.randint(2))\n",
    "ActionChains(driver).send_keys('\\n\\n\\n'+ second_subtitle).perform()\n",
    "time.sleep(random.randint(2))\n",
    "ActionChains(driver).send_keys('\\n\\n\\n'+ third_subtitle).perform()\n",
    "time.sleep(random.randint(2))\n",
    "save_button = driver.find_element(By.XPATH, '//*[@id=\"root\"]/div/div[1]/div/div[2]/button[1]')\n",
    "click(save_button)"
   ]
  },
  {
   "cell_type": "code",
   "execution_count": null,
   "id": "437c0251-f266-4633-bd24-a601f2770fc4",
   "metadata": {},
   "outputs": [],
   "source": []
  }
 ],
 "metadata": {
  "kernelspec": {
   "display_name": "Python 3",
   "language": "python",
   "name": "python3"
  },
  "language_info": {
   "codemirror_mode": {
    "name": "ipython",
    "version": 3
   },
   "file_extension": ".py",
   "mimetype": "text/x-python",
   "name": "python",
   "nbconvert_exporter": "python",
   "pygments_lexer": "ipython3",
   "version": "3.9.5"
  }
 },
 "nbformat": 4,
 "nbformat_minor": 5
}
